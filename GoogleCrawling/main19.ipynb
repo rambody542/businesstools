{
 "cells": [
  {
   "cell_type": "code",
   "execution_count": 3,
   "metadata": {},
   "outputs": [],
   "source": [
    "from selenium import webdriver\n",
    "from webdriver_manager.chrome import ChromeDriverManager\n",
    "from selenium.webdriver.chrome.service import Service\n",
    "\n",
    "\n",
    "options = webdriver.ChromeOptions()\n",
    "driver = webdriver.Chrome(service=Service(ChromeDriverManager().install()), options=options)\n",
    "\n",
    "\n",
    "URL='https://www.google.co.kr/imghp'\n",
    "driver.get(url=URL)\n",
    "\n",
    "\n",
    "driver.implicitly_wait(time_to_wait=10)"
   ]
  },
  {
   "cell_type": "code",
   "execution_count": 4,
   "metadata": {},
   "outputs": [],
   "source": [
    "from selenium.webdriver.common.keys import Keys\n",
    "from selenium.webdriver.common.by import By\n",
    "\n",
    "\n",
    "elem = driver.find_element(By.CSS_SELECTOR,\"#APjFqb\")\n",
    "elem.send_keys(\"바다\")\n",
    "elem.send_keys(Keys.RETURN)"
   ]
  },
  {
   "cell_type": "code",
   "execution_count": 6,
   "metadata": {},
   "outputs": [],
   "source": [
    "import time\n",
    "\n",
    "elem = driver.find_element(By.TAG_NAME, \"body\")\n",
    "for i in range(5):\n",
    "  elem.send_keys(Keys.PAGE_DOWN)\n",
    "  time.sleep(0.1)\n",
    "\n",
    "\n",
    "try:\n",
    "  driver.find_element(By.CSS_SELECTOR,'#yDmH0d').location_once_scrolled_into_view()\n",
    "\n",
    "\n",
    "  for i in range(5):\n",
    "    elem.send_keys(Keys.PAGE_DOWN)\n",
    "    time.sleep(0.1)\n",
    "except:\n",
    "  pass\n"
   ]
  },
  {
   "cell_type": "code",
   "execution_count": 21,
   "metadata": {},
   "outputs": [
    {
     "name": "stdout",
     "output_type": "stream",
     "text": [
      "찾은 이미지 개수:  48\n"
     ]
    }
   ],
   "source": [
    "##islrg > div.islrc > div:nth-child(13) > a.FRuiCf.islib.nfEiy > div.fR600b.islir > img\n",
    "\n",
    "links=[]\n",
    "images = driver.find_elements(By.CSS_SELECTOR,\"#islrg > div.islrc > div > a.FRuiCf.islib.nfEiy > div.fR600b.islir > img\")\n",
    "\n",
    "for image in images:\n",
    "  if image.get_attribute('src') is not None:\n",
    "    links.append(image.get_attribute('src'))\n",
    "\n",
    "\n",
    "print('찾은 이미지 개수: ',len(links))"
   ]
  },
  {
   "cell_type": "code",
   "execution_count": 26,
   "metadata": {},
   "outputs": [
    {
     "name": "stdout",
     "output_type": "stream",
     "text": [
      "다운로드 완료하였습니다.\n"
     ]
    }
   ],
   "source": [
    "import urllib.request\n",
    "\n",
    "for i,k in enumerate(links):\n",
    "  url = k\n",
    "  urllib.request.urlretrieve(url, \"E:\\\\myproject\\\\myproject\\\\GoogleCrawling\\\\DownloadPic\\\\\"+str(i)+\".jpg\")\n",
    "\n",
    "print('다운로드 완료하였습니다.')"
   ]
  }
 ],
 "metadata": {
  "kernelspec": {
   "display_name": "Python 3",
   "language": "python",
   "name": "python3"
  },
  "language_info": {
   "codemirror_mode": {
    "name": "ipython",
    "version": 3
   },
   "file_extension": ".py",
   "mimetype": "text/x-python",
   "name": "python",
   "nbconvert_exporter": "python",
   "pygments_lexer": "ipython3",
   "version": "3.11.6"
  }
 },
 "nbformat": 4,
 "nbformat_minor": 2
}
